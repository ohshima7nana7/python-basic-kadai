{
  "nbformat": 4,
  "nbformat_minor": 0,
  "metadata": {
    "colab": {
      "provenance": []
    },
    "kernelspec": {
      "name": "python3",
      "display_name": "Python 3"
    },
    "language_info": {
      "name": "python"
    }
  },
  "cells": [
    {
      "cell_type": "code",
      "source": [
        "def add_tax(price, rate) -> float:\n",
        "  total = price * (1 + rate)\n",
        "  return total\n",
        "\n",
        "total = add_tax(1000, 0.1)\n",
        "print(total)"
      ],
      "metadata": {
        "id": "qkys6ZhNgOGY",
        "colab": {
          "base_uri": "https://localhost:8080/"
        },
        "outputId": "03ac4268-4099-48b9-a704-fada13c6ca3a"
      },
      "execution_count": 6,
      "outputs": [
        {
          "output_type": "stream",
          "name": "stdout",
          "text": [
            "1100.0\n"
          ]
        }
      ]
    }
  ]
}