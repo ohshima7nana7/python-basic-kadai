{
  "nbformat": 4,
  "nbformat_minor": 0,
  "metadata": {
    "colab": {
      "provenance": []
    },
    "kernelspec": {
      "name": "python3",
      "display_name": "Python 3"
    },
    "language_info": {
      "name": "python"
    }
  },
  "cells": [
    {
      "cell_type": "code",
      "source": [
        "class Human:\n",
        "  def __init__(self, name, age):\n",
        "    self.name = name\n",
        "    self.age = age\n",
        "\n",
        "  def check_adult(self):\n",
        "    if self.age >= 20:\n",
        "      print(f\"{self.name}は大人である\")\n",
        "    else:\n",
        "      print(f\"{self.name}は大人でない\")\n",
        "\n",
        "ichirou = Human(\"侍一郎\", 22)\n",
        "jirou = Human(\"侍二郎\", 20)\n",
        "saburou = Human(\"侍三郎\", 18)\n",
        "\n",
        "humans = [ichirou, jirou, saburou]\n",
        "\n",
        "for human in humans:\n",
        "  human.check_adult()"
      ],
      "metadata": {
        "colab": {
          "base_uri": "https://localhost:8080/"
        },
        "id": "QefT2rgt556p",
        "outputId": "dea0602e-3de0-4dc9-eebf-6fdd7ab68dab"
      },
      "execution_count": 16,
      "outputs": [
        {
          "output_type": "stream",
          "name": "stdout",
          "text": [
            "侍一郎は大人である\n",
            "侍二郎は大人である\n",
            "侍三郎は大人でない\n"
          ]
        }
      ]
    }
  ]
}